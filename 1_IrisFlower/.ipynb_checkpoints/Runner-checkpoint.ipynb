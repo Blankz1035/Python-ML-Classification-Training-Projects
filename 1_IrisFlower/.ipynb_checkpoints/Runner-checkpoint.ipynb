{
 "cells": [
  {
   "cell_type": "markdown",
   "metadata": {},
   "source": [
    "## Demonstrating Iris Classification\n"
   ]
  },
  {
   "cell_type": "code",
   "execution_count": 36,
   "metadata": {},
   "outputs": [],
   "source": [
    "\n",
    "# Implementing using Tensorflow \n",
    "import tensorflow as tf\n",
    "from tensorflow.keras import layers\n",
    "import pandas as pd\n",
    "import numpy as np\n",
    "from tensorflow.keras import datasets, layers, models\n",
    "from tensorflow.keras.utils import to_categorical\n",
    "from sklearn import datasets\n",
    "from sklearn.model_selection import train_test_split"
   ]
  },
  {
   "cell_type": "code",
   "execution_count": 31,
   "metadata": {},
   "outputs": [],
   "source": [
    "# import some data to play with\n",
    "X, y = datasets.load_iris(return_X_y = True, as_frame=True)"
   ]
  },
  {
   "cell_type": "code",
   "execution_count": 32,
   "metadata": {},
   "outputs": [
    {
     "data": {
      "text/html": [
       "<div>\n",
       "<style scoped>\n",
       "    .dataframe tbody tr th:only-of-type {\n",
       "        vertical-align: middle;\n",
       "    }\n",
       "\n",
       "    .dataframe tbody tr th {\n",
       "        vertical-align: top;\n",
       "    }\n",
       "\n",
       "    .dataframe thead th {\n",
       "        text-align: right;\n",
       "    }\n",
       "</style>\n",
       "<table border=\"1\" class=\"dataframe\">\n",
       "  <thead>\n",
       "    <tr style=\"text-align: right;\">\n",
       "      <th></th>\n",
       "      <th>sepal length (cm)</th>\n",
       "      <th>sepal width (cm)</th>\n",
       "      <th>petal length (cm)</th>\n",
       "      <th>petal width (cm)</th>\n",
       "    </tr>\n",
       "  </thead>\n",
       "  <tbody>\n",
       "    <tr>\n",
       "      <th>0</th>\n",
       "      <td>5.1</td>\n",
       "      <td>3.5</td>\n",
       "      <td>1.4</td>\n",
       "      <td>0.2</td>\n",
       "    </tr>\n",
       "    <tr>\n",
       "      <th>1</th>\n",
       "      <td>4.9</td>\n",
       "      <td>3.0</td>\n",
       "      <td>1.4</td>\n",
       "      <td>0.2</td>\n",
       "    </tr>\n",
       "    <tr>\n",
       "      <th>2</th>\n",
       "      <td>4.7</td>\n",
       "      <td>3.2</td>\n",
       "      <td>1.3</td>\n",
       "      <td>0.2</td>\n",
       "    </tr>\n",
       "    <tr>\n",
       "      <th>3</th>\n",
       "      <td>4.6</td>\n",
       "      <td>3.1</td>\n",
       "      <td>1.5</td>\n",
       "      <td>0.2</td>\n",
       "    </tr>\n",
       "    <tr>\n",
       "      <th>4</th>\n",
       "      <td>5.0</td>\n",
       "      <td>3.6</td>\n",
       "      <td>1.4</td>\n",
       "      <td>0.2</td>\n",
       "    </tr>\n",
       "  </tbody>\n",
       "</table>\n",
       "</div>"
      ],
      "text/plain": [
       "   sepal length (cm)  sepal width (cm)  petal length (cm)  petal width (cm)\n",
       "0                5.1               3.5                1.4               0.2\n",
       "1                4.9               3.0                1.4               0.2\n",
       "2                4.7               3.2                1.3               0.2\n",
       "3                4.6               3.1                1.5               0.2\n",
       "4                5.0               3.6                1.4               0.2"
      ]
     },
     "execution_count": 32,
     "metadata": {},
     "output_type": "execute_result"
    }
   ],
   "source": [
    "X.head()\n"
   ]
  },
  {
   "cell_type": "code",
   "execution_count": 33,
   "metadata": {},
   "outputs": [
    {
     "name": "stdout",
     "output_type": "stream",
     "text": [
      "   sepal length (cm)  sepal width (cm)  petal length (cm)  petal width (cm)\n",
      "0                5.1               3.5                1.4               0.2\n",
      "1                4.9               3.0                1.4               0.2\n",
      "2                4.7               3.2                1.3               0.2\n",
      "3                4.6               3.1                1.5               0.2\n",
      "4                5.0               3.6                1.4               0.2\n",
      "0    0\n",
      "1    0\n",
      "2    0\n",
      "3    0\n",
      "4    0\n",
      "Name: target, dtype: int32\n",
      "(150, 4)\n",
      "(150,)\n"
     ]
    }
   ],
   "source": [
    "print(X[0:5])\n",
    "print(y[0:5])\n",
    "print(X.shape)\n",
    "print(y.shape)"
   ]
  },
  {
   "cell_type": "code",
   "execution_count": 34,
   "metadata": {},
   "outputs": [
    {
     "name": "stdout",
     "output_type": "stream",
     "text": [
      "[0 0 0 0 0 0 0 0 0 0 0 0 0 0 0 0 0 0 0 0 0 0 0 0 0 0 0 0 0 0 0 0 0 0 0 0 0\n",
      " 0 0 0 0 0 0 0 0 0 0 0 0 0 1 1 1 1 1 1 1 1 1 1 1 1 1 1 1 1 1 1 1 1 1 1 1 1\n",
      " 1 1 1 1 1 1 1 1 1 1 1 1 1 1 1 1 1 1 1 1 1 1 1 1 1 1 2 2 2 2 2 2 2 2 2 2 2\n",
      " 2 2 2 2 2 2 2 2 2 2 2 2 2 2 2 2 2 2 2 2 2 2 2 2 2 2 2 2 2 2 2 2 2 2 2 2 2\n",
      " 2 2]\n"
     ]
    }
   ],
   "source": [
    "from sklearn.preprocessing import LabelEncoder\n",
    "encoder =  LabelEncoder()\n",
    "y1 = encoder.fit_transform(y)\n",
    "print(y1)\n"
   ]
  },
  {
   "cell_type": "code",
   "execution_count": 35,
   "metadata": {},
   "outputs": [
    {
     "name": "stdout",
     "output_type": "stream",
     "text": [
      "[[1 0 0]\n",
      " [1 0 0]\n",
      " [1 0 0]\n",
      " [1 0 0]\n",
      " [1 0 0]]\n"
     ]
    }
   ],
   "source": [
    "Y = pd.get_dummies(y1).values\n",
    "print(Y[0:5])"
   ]
  },
  {
   "cell_type": "code",
   "execution_count": 37,
   "metadata": {},
   "outputs": [],
   "source": [
    "X_train, X_test, y_train, y_test = train_test_split(X, Y, test_size=0.2, random_state=0)"
   ]
  },
  {
   "cell_type": "code",
   "execution_count": 38,
   "metadata": {},
   "outputs": [
    {
     "name": "stdout",
     "output_type": "stream",
     "text": [
      "     sepal length (cm)  sepal width (cm)  petal length (cm)  petal width (cm)\n",
      "137                6.4               3.1                5.5               1.8\n",
      "84                 5.4               3.0                4.5               1.5\n",
      "27                 5.2               3.5                1.5               0.2\n",
      "127                6.1               3.0                4.9               1.8\n",
      "132                6.4               2.8                5.6               2.2\n",
      "\n",
      "\n",
      "[[0 0 1]\n",
      " [0 1 0]\n",
      " [1 0 0]\n",
      " [0 0 1]\n",
      " [0 0 1]]\n"
     ]
    }
   ],
   "source": [
    "print(X_train[0:5])\n",
    "print(\"\\n\")\n",
    "print(y_train[0:5])\n"
   ]
  },
  {
   "cell_type": "markdown",
   "metadata": {},
   "source": [
    "#### Creating TF Model "
   ]
  },
  {
   "cell_type": "code",
   "execution_count": 39,
   "metadata": {},
   "outputs": [
    {
     "data": {
      "text/plain": [
       "<tensorflow.python.keras.engine.sequential.Sequential at 0x1eea8c908e0>"
      ]
     },
     "execution_count": 39,
     "metadata": {},
     "output_type": "execute_result"
    }
   ],
   "source": [
    "model = tf.keras.Sequential([\n",
    "    tf.keras.layers.Dense(10, activation='relu'),\n",
    "    tf.keras.layers.Dense(10, activation='relu'),\n",
    "    tf.keras.layers.Dense(3, activation='softmax')\n",
    "  ])\n",
    "model"
   ]
  },
  {
   "cell_type": "code",
   "execution_count": 41,
   "metadata": {},
   "outputs": [],
   "source": [
    "model.compile(optimizer='rmsprop',\n",
    "              loss='categorical_crossentropy',\n",
    "              metrics=['accuracy'])"
   ]
  },
  {
   "cell_type": "code",
   "execution_count": 47,
   "metadata": {},
   "outputs": [
    {
     "name": "stdout",
     "output_type": "stream",
     "text": [
      "Epoch 1/120\n",
      "3/3 [==============================] - 0s 1ms/step - loss: 0.3687 - accuracy: 0.9500\n",
      "Epoch 2/120\n",
      "3/3 [==============================] - 0s 4ms/step - loss: 0.3631 - accuracy: 0.9250\n",
      "Epoch 3/120\n",
      "3/3 [==============================] - 0s 1ms/step - loss: 0.3597 - accuracy: 0.9417\n",
      "Epoch 4/120\n",
      "3/3 [==============================] - 0s 2ms/step - loss: 0.3584 - accuracy: 0.9500\n",
      "Epoch 5/120\n",
      "3/3 [==============================] - 0s 3ms/step - loss: 0.3534 - accuracy: 0.9583\n",
      "Epoch 6/120\n",
      "3/3 [==============================] - 0s 2ms/step - loss: 0.3519 - accuracy: 0.9583\n",
      "Epoch 7/120\n",
      "3/3 [==============================] - 0s 3ms/step - loss: 0.3443 - accuracy: 0.9750\n",
      "Epoch 8/120\n",
      "3/3 [==============================] - 0s 3ms/step - loss: 0.3400 - accuracy: 0.9583\n",
      "Epoch 9/120\n",
      "3/3 [==============================] - 0s 2ms/step - loss: 0.3358 - accuracy: 0.9500\n",
      "Epoch 10/120\n",
      "3/3 [==============================] - 0s 2ms/step - loss: 0.3320 - accuracy: 0.9417\n",
      "Epoch 11/120\n",
      "3/3 [==============================] - 0s 3ms/step - loss: 0.3287 - accuracy: 0.9583\n",
      "Epoch 12/120\n",
      "3/3 [==============================] - 0s 2ms/step - loss: 0.3241 - accuracy: 0.9500\n",
      "Epoch 13/120\n",
      "3/3 [==============================] - 0s 2ms/step - loss: 0.3223 - accuracy: 0.9417\n",
      "Epoch 14/120\n",
      "3/3 [==============================] - 0s 2ms/step - loss: 0.3178 - accuracy: 0.9500\n",
      "Epoch 15/120\n",
      "3/3 [==============================] - 0s 2ms/step - loss: 0.3153 - accuracy: 0.9417\n",
      "Epoch 16/120\n",
      "3/3 [==============================] - 0s 3ms/step - loss: 0.3116 - accuracy: 0.9500\n",
      "Epoch 17/120\n",
      "3/3 [==============================] - 0s 1ms/step - loss: 0.3094 - accuracy: 0.9500\n",
      "Epoch 18/120\n",
      "3/3 [==============================] - 0s 2ms/step - loss: 0.3026 - accuracy: 0.9417\n",
      "Epoch 19/120\n",
      "3/3 [==============================] - 0s 3ms/step - loss: 0.2984 - accuracy: 0.9500\n",
      "Epoch 20/120\n",
      "3/3 [==============================] - 0s 2ms/step - loss: 0.3018 - accuracy: 0.9583\n",
      "Epoch 21/120\n",
      "3/3 [==============================] - 0s 2ms/step - loss: 0.2979 - accuracy: 0.9667\n",
      "Epoch 22/120\n",
      "3/3 [==============================] - 0s 1ms/step - loss: 0.2875 - accuracy: 0.9667\n",
      "Epoch 23/120\n",
      "3/3 [==============================] - 0s 2ms/step - loss: 0.2859 - accuracy: 0.9583\n",
      "Epoch 24/120\n",
      "3/3 [==============================] - 0s 3ms/step - loss: 0.2834 - accuracy: 0.9583\n",
      "Epoch 25/120\n",
      "3/3 [==============================] - 0s 2ms/step - loss: 0.2797 - accuracy: 0.9417\n",
      "Epoch 26/120\n",
      "3/3 [==============================] - 0s 2ms/step - loss: 0.2796 - accuracy: 0.9500\n",
      "Epoch 27/120\n",
      "3/3 [==============================] - 0s 3ms/step - loss: 0.2738 - accuracy: 0.9500\n",
      "Epoch 28/120\n",
      "3/3 [==============================] - 0s 2ms/step - loss: 0.2719 - accuracy: 0.9667\n",
      "Epoch 29/120\n",
      "3/3 [==============================] - 0s 2ms/step - loss: 0.2662 - accuracy: 0.9583\n",
      "Epoch 30/120\n",
      "3/3 [==============================] - 0s 2ms/step - loss: 0.2636 - accuracy: 0.9667\n",
      "Epoch 31/120\n",
      "3/3 [==============================] - 0s 2ms/step - loss: 0.2600 - accuracy: 0.9583\n",
      "Epoch 32/120\n",
      "3/3 [==============================] - 0s 3ms/step - loss: 0.2610 - accuracy: 0.9667\n",
      "Epoch 33/120\n",
      "3/3 [==============================] - 0s 2ms/step - loss: 0.2555 - accuracy: 0.9500\n",
      "Epoch 34/120\n",
      "3/3 [==============================] - 0s 3ms/step - loss: 0.2512 - accuracy: 0.9500\n",
      "Epoch 35/120\n",
      "3/3 [==============================] - 0s 4ms/step - loss: 0.2502 - accuracy: 0.9500\n",
      "Epoch 36/120\n",
      "3/3 [==============================] - 0s 2ms/step - loss: 0.2466 - accuracy: 0.9667\n",
      "Epoch 37/120\n",
      "3/3 [==============================] - 0s 2ms/step - loss: 0.2438 - accuracy: 0.9500\n",
      "Epoch 38/120\n",
      "3/3 [==============================] - 0s 3ms/step - loss: 0.2396 - accuracy: 0.9583\n",
      "Epoch 39/120\n",
      "3/3 [==============================] - 0s 2ms/step - loss: 0.2365 - accuracy: 0.9583\n",
      "Epoch 40/120\n",
      "3/3 [==============================] - 0s 2ms/step - loss: 0.2333 - accuracy: 0.9667\n",
      "Epoch 41/120\n",
      "3/3 [==============================] - 0s 2ms/step - loss: 0.2324 - accuracy: 0.9583\n",
      "Epoch 42/120\n",
      "3/3 [==============================] - 0s 4ms/step - loss: 0.2376 - accuracy: 0.9500\n",
      "Epoch 43/120\n",
      "3/3 [==============================] - 0s 2ms/step - loss: 0.2293 - accuracy: 0.9667\n",
      "Epoch 44/120\n",
      "3/3 [==============================] - 0s 2ms/step - loss: 0.2238 - accuracy: 0.9583\n",
      "Epoch 45/120\n",
      "3/3 [==============================] - 0s 2ms/step - loss: 0.2205 - accuracy: 0.9667\n",
      "Epoch 46/120\n",
      "3/3 [==============================] - 0s 3ms/step - loss: 0.2206 - accuracy: 0.9583\n",
      "Epoch 47/120\n",
      "3/3 [==============================] - 0s 2ms/step - loss: 0.2194 - accuracy: 0.9583\n",
      "Epoch 48/120\n",
      "3/3 [==============================] - 0s 2ms/step - loss: 0.2158 - accuracy: 0.9583\n",
      "Epoch 49/120\n",
      "3/3 [==============================] - 0s 3ms/step - loss: 0.2111 - accuracy: 0.9500\n",
      "Epoch 50/120\n",
      "3/3 [==============================] - 0s 2ms/step - loss: 0.2110 - accuracy: 0.9583\n",
      "Epoch 51/120\n",
      "3/3 [==============================] - 0s 2ms/step - loss: 0.2095 - accuracy: 0.9583\n",
      "Epoch 52/120\n",
      "3/3 [==============================] - 0s 2ms/step - loss: 0.2065 - accuracy: 0.9583\n",
      "Epoch 53/120\n",
      "3/3 [==============================] - 0s 1ms/step - loss: 0.2010 - accuracy: 0.9667\n",
      "Epoch 54/120\n",
      "3/3 [==============================] - 0s 3ms/step - loss: 0.2005 - accuracy: 0.9667\n",
      "Epoch 55/120\n",
      "3/3 [==============================] - 0s 2ms/step - loss: 0.2072 - accuracy: 0.9500\n",
      "Epoch 56/120\n",
      "3/3 [==============================] - 0s 2ms/step - loss: 0.1968 - accuracy: 0.9583\n",
      "Epoch 57/120\n",
      "3/3 [==============================] - 0s 2ms/step - loss: 0.1955 - accuracy: 0.9667\n",
      "Epoch 58/120\n",
      "3/3 [==============================] - 0s 2ms/step - loss: 0.1920 - accuracy: 0.9667\n",
      "Epoch 59/120\n",
      "3/3 [==============================] - 0s 3ms/step - loss: 0.1905 - accuracy: 0.9667\n",
      "Epoch 60/120\n",
      "3/3 [==============================] - 0s 2ms/step - loss: 0.1873 - accuracy: 0.9583\n",
      "Epoch 61/120\n",
      "3/3 [==============================] - 0s 2ms/step - loss: 0.1851 - accuracy: 0.9667\n",
      "Epoch 62/120\n",
      "3/3 [==============================] - 0s 2ms/step - loss: 0.1851 - accuracy: 0.9667\n",
      "Epoch 63/120\n",
      "3/3 [==============================] - 0s 3ms/step - loss: 0.1855 - accuracy: 0.9500\n",
      "Epoch 64/120\n",
      "3/3 [==============================] - 0s 2ms/step - loss: 0.1866 - accuracy: 0.9583\n",
      "Epoch 65/120\n",
      "3/3 [==============================] - 0s 2ms/step - loss: 0.1818 - accuracy: 0.9583\n",
      "Epoch 66/120\n",
      "3/3 [==============================] - 0s 2ms/step - loss: 0.1803 - accuracy: 0.9500\n",
      "Epoch 67/120\n",
      "3/3 [==============================] - 0s 2ms/step - loss: 0.1751 - accuracy: 0.9583\n",
      "Epoch 68/120\n",
      "3/3 [==============================] - 0s 997us/step - loss: 0.1754 - accuracy: 0.9667\n",
      "Epoch 69/120\n",
      "3/3 [==============================] - 0s 2ms/step - loss: 0.1754 - accuracy: 0.9583\n",
      "Epoch 70/120\n",
      "3/3 [==============================] - 0s 1ms/step - loss: 0.1751 - accuracy: 0.9500\n",
      "Epoch 71/120\n",
      "3/3 [==============================] - 0s 2ms/step - loss: 0.1691 - accuracy: 0.9667\n",
      "Epoch 72/120\n",
      "3/3 [==============================] - 0s 2ms/step - loss: 0.1708 - accuracy: 0.9583\n",
      "Epoch 73/120\n",
      "3/3 [==============================] - 0s 2ms/step - loss: 0.1688 - accuracy: 0.9667\n",
      "Epoch 74/120\n",
      "3/3 [==============================] - 0s 2ms/step - loss: 0.1679 - accuracy: 0.9667\n",
      "Epoch 75/120\n",
      "3/3 [==============================] - 0s 1ms/step - loss: 0.1686 - accuracy: 0.9500\n",
      "Epoch 76/120\n",
      "3/3 [==============================] - 0s 2ms/step - loss: 0.1671 - accuracy: 0.9667\n",
      "Epoch 77/120\n",
      "3/3 [==============================] - 0s 2ms/step - loss: 0.1609 - accuracy: 0.9667\n",
      "Epoch 78/120\n",
      "3/3 [==============================] - 0s 2ms/step - loss: 0.1594 - accuracy: 0.9583\n",
      "Epoch 79/120\n",
      "3/3 [==============================] - 0s 2ms/step - loss: 0.1639 - accuracy: 0.9667\n",
      "Epoch 80/120\n",
      "3/3 [==============================] - ETA: 0s - loss: 0.1680 - accuracy: 0.96 - 0s 2ms/step - loss: 0.1565 - accuracy: 0.9583\n",
      "Epoch 81/120\n",
      "3/3 [==============================] - 0s 2ms/step - loss: 0.1579 - accuracy: 0.9667\n",
      "Epoch 82/120\n",
      "3/3 [==============================] - 0s 3ms/step - loss: 0.1607 - accuracy: 0.9583\n",
      "Epoch 83/120\n",
      "3/3 [==============================] - 0s 2ms/step - loss: 0.1536 - accuracy: 0.9583\n",
      "Epoch 84/120\n"
     ]
    },
    {
     "name": "stdout",
     "output_type": "stream",
     "text": [
      "3/3 [==============================] - 0s 2ms/step - loss: 0.1549 - accuracy: 0.9583\n",
      "Epoch 85/120\n",
      "3/3 [==============================] - 0s 3ms/step - loss: 0.1515 - accuracy: 0.9667\n",
      "Epoch 86/120\n",
      "3/3 [==============================] - 0s 2ms/step - loss: 0.1539 - accuracy: 0.9667\n",
      "Epoch 87/120\n",
      "3/3 [==============================] - 0s 3ms/step - loss: 0.1498 - accuracy: 0.9583\n",
      "Epoch 88/120\n",
      "3/3 [==============================] - 0s 1ms/step - loss: 0.1491 - accuracy: 0.9583\n",
      "Epoch 89/120\n",
      "3/3 [==============================] - 0s 2ms/step - loss: 0.1466 - accuracy: 0.9583\n",
      "Epoch 90/120\n",
      "3/3 [==============================] - 0s 2ms/step - loss: 0.1504 - accuracy: 0.9583\n",
      "Epoch 91/120\n",
      "3/3 [==============================] - 0s 2ms/step - loss: 0.1477 - accuracy: 0.9583\n",
      "Epoch 92/120\n",
      "3/3 [==============================] - 0s 4ms/step - loss: 0.1442 - accuracy: 0.9667\n",
      "Epoch 93/120\n",
      "3/3 [==============================] - 0s 3ms/step - loss: 0.1419 - accuracy: 0.9667\n",
      "Epoch 94/120\n",
      "3/3 [==============================] - 0s 4ms/step - loss: 0.1405 - accuracy: 0.9667\n",
      "Epoch 95/120\n",
      "3/3 [==============================] - 0s 1ms/step - loss: 0.1395 - accuracy: 0.9667\n",
      "Epoch 96/120\n",
      "3/3 [==============================] - 0s 3ms/step - loss: 0.1493 - accuracy: 0.9583\n",
      "Epoch 97/120\n",
      "3/3 [==============================] - 0s 2ms/step - loss: 0.1446 - accuracy: 0.9583\n",
      "Epoch 98/120\n",
      "3/3 [==============================] - 0s 2ms/step - loss: 0.1376 - accuracy: 0.9583\n",
      "Epoch 99/120\n",
      "3/3 [==============================] - 0s 1ms/step - loss: 0.1360 - accuracy: 0.9667\n",
      "Epoch 100/120\n",
      "3/3 [==============================] - 0s 2ms/step - loss: 0.1375 - accuracy: 0.9583\n",
      "Epoch 101/120\n",
      "3/3 [==============================] - 0s 2ms/step - loss: 0.1402 - accuracy: 0.9667\n",
      "Epoch 102/120\n",
      "3/3 [==============================] - 0s 1ms/step - loss: 0.1350 - accuracy: 0.9667\n",
      "Epoch 103/120\n",
      "3/3 [==============================] - 0s 2ms/step - loss: 0.1327 - accuracy: 0.9583\n",
      "Epoch 104/120\n",
      "3/3 [==============================] - 0s 2ms/step - loss: 0.1354 - accuracy: 0.9583\n",
      "Epoch 105/120\n",
      "3/3 [==============================] - 0s 3ms/step - loss: 0.1403 - accuracy: 0.9667\n",
      "Epoch 106/120\n",
      "3/3 [==============================] - 0s 1ms/step - loss: 0.1293 - accuracy: 0.9667\n",
      "Epoch 107/120\n",
      "3/3 [==============================] - 0s 2ms/step - loss: 0.1286 - accuracy: 0.9667\n",
      "Epoch 108/120\n",
      "3/3 [==============================] - 0s 1ms/step - loss: 0.1289 - accuracy: 0.9583\n",
      "Epoch 109/120\n",
      "3/3 [==============================] - 0s 2ms/step - loss: 0.1276 - accuracy: 0.9583\n",
      "Epoch 110/120\n",
      "3/3 [==============================] - 0s 3ms/step - loss: 0.1286 - accuracy: 0.9667\n",
      "Epoch 111/120\n",
      "3/3 [==============================] - 0s 998us/step - loss: 0.1267 - accuracy: 0.9583\n",
      "Epoch 112/120\n",
      "3/3 [==============================] - 0s 3ms/step - loss: 0.1284 - accuracy: 0.9500\n",
      "Epoch 113/120\n",
      "3/3 [==============================] - 0s 2ms/step - loss: 0.1336 - accuracy: 0.9583\n",
      "Epoch 114/120\n",
      "3/3 [==============================] - 0s 3ms/step - loss: 0.1231 - accuracy: 0.9750\n",
      "Epoch 115/120\n",
      "3/3 [==============================] - 0s 3ms/step - loss: 0.1236 - accuracy: 0.9667\n",
      "Epoch 116/120\n",
      "3/3 [==============================] - 0s 2ms/step - loss: 0.1271 - accuracy: 0.9583\n",
      "Epoch 117/120\n",
      "3/3 [==============================] - 0s 2ms/step - loss: 0.1210 - accuracy: 0.9833\n",
      "Epoch 118/120\n",
      "3/3 [==============================] - 0s 2ms/step - loss: 0.1204 - accuracy: 0.9667\n",
      "Epoch 119/120\n",
      "3/3 [==============================] - 0s 2ms/step - loss: 0.1221 - accuracy: 0.9667\n",
      "Epoch 120/120\n",
      "3/3 [==============================] - 0s 3ms/step - loss: 0.1183 - accuracy: 0.9667\n"
     ]
    },
    {
     "data": {
      "text/plain": [
       "<tensorflow.python.keras.callbacks.History at 0x1eeaa04d370>"
      ]
     },
     "execution_count": 47,
     "metadata": {},
     "output_type": "execute_result"
    }
   ],
   "source": [
    "model.fit(X_train, y_train, batch_size=50, epochs=120, verbose = True)\n"
   ]
  },
  {
   "cell_type": "markdown",
   "metadata": {},
   "source": [
    "#### Evaluate the Model using the testing data prepared"
   ]
  },
  {
   "cell_type": "code",
   "execution_count": 48,
   "metadata": {},
   "outputs": [
    {
     "name": "stdout",
     "output_type": "stream",
     "text": [
      "Test loss: 0.07933064550161362\n",
      "Test accuracy: 1.0\n"
     ]
    }
   ],
   "source": [
    "loss, accuracy = model.evaluate(X_test, y_test, verbose=0)\n",
    "print('Test loss:', loss)\n",
    "print('Test accuracy:', accuracy)"
   ]
  },
  {
   "cell_type": "code",
   "execution_count": 49,
   "metadata": {},
   "outputs": [],
   "source": [
    "y_pred = model.predict(X_test)\n",
    "#y_pred"
   ]
  },
  {
   "cell_type": "code",
   "execution_count": 50,
   "metadata": {},
   "outputs": [
    {
     "name": "stdout",
     "output_type": "stream",
     "text": [
      "Actual: [2 1 0 2 0 2 0 1 1 1 2 1 1 1 1 0 1 1 0 0 2 1 0 0 2 0 0 1 1 0]\n",
      "Predicted: [2 1 0 2 0 2 0 1 1 1 2 1 1 1 1 0 1 1 0 0 2 1 0 0 2 0 0 1 1 0]\n"
     ]
    }
   ],
   "source": [
    "actual = np.argmax(y_test,axis=1)\n",
    "predicted = np.argmax(y_pred,axis=1)\n",
    "print(f\"Actual: {actual}\")\n",
    "print(f\"Predicted: {predicted}\")"
   ]
  },
  {
   "cell_type": "code",
   "execution_count": null,
   "metadata": {},
   "outputs": [],
   "source": [
    "## https://scikit-learn.org/stable/modules/generated/sklearn.datasets.load_iris.html"
   ]
  }
 ],
 "metadata": {
  "kernelspec": {
   "display_name": "Python 3",
   "language": "python",
   "name": "python3"
  },
  "language_info": {
   "codemirror_mode": {
    "name": "ipython",
    "version": 3
   },
   "file_extension": ".py",
   "mimetype": "text/x-python",
   "name": "python",
   "nbconvert_exporter": "python",
   "pygments_lexer": "ipython3",
   "version": "3.8.3"
  }
 },
 "nbformat": 4,
 "nbformat_minor": 4
}
